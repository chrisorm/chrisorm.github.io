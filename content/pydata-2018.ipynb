{
 "cells": [
  {
   "cell_type": "markdown",
   "metadata": {},
   "source": [
    "# Deep Probabilistic Methods in PyTorch at Pydata London 2018\n",
    "\n",
    "Recently I have been rather swamped preparing my tutorial for pydata, so I haven't really had a chance to upload anything interesting here for a while. \n",
    "\n",
    "## Topic of the Tutorial\n",
    "\n",
    "My tutorial was intended to be a guided path from conjugate Bayesian models through to Variational Inference and the ELBO, and then linking this to VAEs and GANs, the two most popular deep generative models at the moment.\n",
    "\n",
    "## Resources\n",
    "\n",
    "All the material for my talk can be found on [my github](https://github.com/chrisorm/pydata-2018)."
   ]
  }
 ],
 "metadata": {
  "kernelspec": {
   "display_name": "Python 3",
   "language": "python",
   "name": "python3"
  },
  "language_info": {
   "codemirror_mode": {
    "name": "ipython",
    "version": 3
   },
   "file_extension": ".py",
   "mimetype": "text/x-python",
   "name": "python",
   "nbconvert_exporter": "python",
   "pygments_lexer": "ipython3",
   "version": "3.5.2"
  }
 },
 "nbformat": 4,
 "nbformat_minor": 2
}
