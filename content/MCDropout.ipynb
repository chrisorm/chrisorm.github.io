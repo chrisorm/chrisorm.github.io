{
 "cells": [
  {
   "cell_type": "markdown",
   "metadata": {},
   "source": [
    "# Dropout as a Bayesian Method\n",
    "\n",
    "Dropout is a common method to prevent overfitting in neural networks. This post covers [Dropout as a Bayesian Approximation](https://arxiv.org/abs/1506.02142)."
   ]
  },
  {
   "cell_type": "markdown",
   "metadata": {},
   "source": [
    "## Dropout\n",
    "\n",
    "Dropout is a way to reduce overfitting during training of neural networks. The idea is simple - if a single sample of input to a layer in out network is N dimensional, we sample N independent Bernoulli variables with a probability $p$ (also called the dropout probability), and take the product of each Bernoulli sample with the corresponding entry of our input.\n",
    "\n",
    "$\\mathbf{z} = \\left[\\begin{matrix}z_{0} \\\\ ... \\\\ z_{i} \\\\ ... \\\\ z_{N}\\end{matrix}\\right]$\n",
    "\n",
    "$z_{i} \\sim Bernoulli(p)$\n",
    "\n",
    "$\\mathbf{\\hat{y}} = \\sigma((\\mathbf{x} \\cdot \\mathbf{z})^{T}W +b)$\n",
    "\n",
    "Where $\\sigma$ is some activation function, $\\mathbf{x}$ is a vector of dimension N, representing a single sample, and $W$ and $b$ are weights and biases for the layer respectively.\n",
    "\n",
    "For deep networks, we can simply repeat the process as so:\n",
    "\n",
    "$\\mathbf{\\tilde{y}} = \\sigma((\\mathbf{\\hat{y}} \\cdot \\mathbf{z_{2}})^{T}W_{2} +b_{2})$\n",
    "\n",
    "In order to train the network, we have a loss function, which I denote by $Er()$, and some additional penality around the parameters themselves, such as a complexity penalty:\n",
    "\n",
    "$\\mathcal{L} = Er(\\mathbf{\\tilde{y}}, \\mathbf{y}) + \\lambda(||W||_{2}^{2}+||W_{2}||_{2}^{2}+||b||_{2}^{2} + ||b_{2}||_{2}^{2})$\n",
    "\n",
    "For regression, $Er$ could be the normal squared error:\n",
    "\n",
    "$Er(\\mathbf{\\tilde{y}}, \\mathbf{y}) = ||\\mathbf{\\tilde{y}}- \\mathbf{y}||_{2}^{2}$\n",
    "\n",
    "### Intuition\n",
    "\n",
    "Dropout works because for every sample, each feature may be zero-ed out with probability p. This means in order to make good predictions, the network cannot rely too heavily on any specific feature. Generalisation is, at a high level, having a network that is not dependent on specific patterns within the training set that do not hold in general. \n",
    "\n",
    "This means that the network is too sensitive to particular features. Dropout helps combat this because any feature may be set to 0. If the network is heavily reliant on very particular intricacies of a feature, it will perform terribly if we set that feature to 0. So in order to achieve a good Loss, the network is forced to not exploit small transient patterns in the training set. \n",
    "\n",
    "\n",
    "## Dropout as a Bayesian method\n",
    "\n",
    "The basic approach we will take is to view our network as a Gaussian Process. Let our final network outputs be $\\mathbf{Y}$, and the inputs be $\\mathbf{X}$. A Gaussian process with the correct kernel and sufficient form is capable of modelling any function, so this view is justified.\n",
    "\n",
    "Let us consider a slightly simplified functional form that above:\n",
    "\n",
    "$\\mathbf{\\tilde{y}} = \\sigma(\\mathbf{X}W_{1} +b)W_{2} + \\epsilon$\n",
    "\n",
    "$X$ has shape Nxd, $W_{1}$ is dxK, $W_{2}$ is Kx1.\n",
    "\n",
    "We let $W$ correspond to the weight matricies after dropout is applied. If we denote the 'pre-dropout' matrix as $M$, $W = M \\cdot z$.\n",
    "\n",
    "This is exactly the same as we get for a linear regression, so we can equally say:\n",
    "\n",
    "$\\mathbf{\\tilde{y}} \\sim \\mathcal{N}(\\sigma(\\mathbf{X}W_{1} +b)W_{2}, \\tau^{-1}I)$\n",
    "\n",
    "Let us place a prior on all the parameters, with the priors on $W_{1}$ and $W_{2}$ being standard gaussians.\n",
    "\n",
    "$P(\\mathbf{\\tilde{y}}, W_{2}, W_{1}, b | \\mathbf{X}) = P(\\mathbf{\\tilde{y}}| W_{2}, W_{1}, b, \\mathbf{X})P(W_{1})P( W_{2})P(b)$\n",
    "\n",
    "Here we have an anlogue to standard loss functions - if each of the terms above are normal, performing MAP estimation is equivalent to minimising:\n",
    "\n",
    "$||y-\\hat{y}^{2}|| + ||W_{1}||^{2}+ ||W_{2}||^{2}+ ||b||^{2}$\n",
    "\n",
    "Which is a standard sum-of squares loss funciton with regularization terms."
   ]
  },
  {
   "cell_type": "markdown",
   "metadata": {},
   "source": [
    "## As a Gaussian Process\n",
    "\n",
    "We can also write this as a Gaussian process, which is the approach used in the paper:\n",
    "\n",
    "$\\mathcal{N}(\\mathbf{\\tilde{y}}| f, \\tau^{-1}I_{d})\\mathcal{N}(f|0, K)$\n",
    "\n",
    "$f = \\Phi W_{2}$\n",
    "\n",
    "where $\\Phi = \\sigma(\\mathbf{X}W_{1}+b)$"
   ]
  },
  {
   "cell_type": "markdown",
   "metadata": {},
   "source": [
    "We can find the moments of f, knowing the prior $P(W_{1})$ and $P(W_{2})$ are standard normal. \n",
    "\n",
    "$E[f] = E[\\Phi W_{2}] = E[\\Phi]E[ W_{2}]  = 0$\n",
    "\n",
    "$E[f f^{T}] = E[\\Phi W_{2}W_{2}^{T} \\Phi^{T}] =  E[\\Phi E[W_{2}W_{2}^{T}] \\Phi^{T}] = E[\\Phi \\Phi^{T}]$\n",
    "\n",
    "For a pair of samples, x and y (which form rows of $\\mathbf{X}$), we can write this expecation as \n",
    "\n",
    "$K(x,y)= \\int \\sigma(w^{T}x +b) \\sigma(w^{T}y +b) P(w)P(b) dwdb$\n",
    "\n",
    "and so:\n",
    "\n",
    "$K_{n,m} = K(\\mathbf{X}_{n},\\mathbf{X}_{m})$\n",
    "\n",
    "We can approximate the integral by samples:\n",
    "\n",
    "$\\hat{K}(x,y)= \\frac{1}{K} \\sum_{k=1}^{K} \\sigma(w_{k}^{T}x +b_{k}) \\sigma(w_{k}^{T}y +b_{k})$"
   ]
  },
  {
   "cell_type": "markdown",
   "metadata": {},
   "source": [
    " ## Uncertainty Estimates of a New point\n",
    " \n",
    " Given some new sample, $x'$, we want the distribution of $y'$.\n",
    " \n",
    " $P(y' | x', \\mathbf{X}, y) = \\int P(y' | x', W_{1}, W_{2}, b)P(W_{1}, W_{2}, b | \\mathbf{X}, y) dW_{1}dW_{2}db$"
   ]
  },
  {
   "cell_type": "markdown",
   "metadata": {},
   "source": [
    "If we make a simple approximation to the posterior, setting $q(w)$ to a 2 component gaussian mixture:\n",
    "\n",
    "$q(W) = \\prod_{k=1}^{K} q(w_{k})$\n",
    "\n",
    "$q(w_{k}) = p \\mathcal{N}(m_{k}, \\sigma I) + (1-p) \\mathcal{N}(0, \\sigma I) $\n",
    "\n",
    "To sample a $w_{k}$ from this, we can use ancestral sampling. \n",
    "\n",
    "Consider a random bernoulli variable, $z$, with probability p. Sample $z$, and if $z=1$, sample from $\\mathcal{N}(m_{k}, \\sigma I)$, else sample from $\\mathcal{N}(0, \\sigma I) $.\n",
    "\n",
    "If we set $\\sigma$ to tend to 0, this procedure tends towards:\n",
    "\n",
    "if $z=1$, our sample is $m_{k}$, else our sample is 0.\n",
    "\n",
    "This is exactly equal to:\n",
    "\n",
    "w_{k} = $m_{k}\\cdot z$.\n",
    "\n",
    "Which is just applying dropout. So we can see that applying dropout with probability p is actually the limit case of sampling from a mixture of two gaussians, one with a mean at $m$, and the other a mean at 0.\n",
    "\n",
    "Now we know how to draw approximate samples from the posterior, we can approximately evaluate the uncertainty.\n",
    "\n",
    "$P(y' | x', \\mathbf{X}, y) \\approx \\frac{1}{N} \\sum_{n=1}^{N} P(y' | x', W_{1}^n, W_{2}^n, b^n)$\n",
    "\n",
    "Where \n",
    "\n",
    "$W^{n} = M \\cdot Z^{n}$\n",
    "\n",
    "In practice, this corresponds to simply applying dropout at test time, and the computing the probability of each output under a normal distribution under multiple samples, as specified above, and averaging the results for each data point."
   ]
  },
  {
   "cell_type": "markdown",
   "metadata": {},
   "source": [
    "## Discussion\n",
    "\n",
    "For me the key insight is the result the link between dropout and a mixture of gaussians. Under this framework, training the network corresponds to learning the means of one of the mixture components. Of course, the real crux of the issue is the appropriateness of this posterior - the uncertainty estimates we generate are only as good as our approximation to the true posterior. Knowing if this choice is sufficient to give us useful output is of course a much harder problem.\n",
    "\n",
    "Empirically, we see that dropout improves generalisation of networks when appropriately applied. \n",
    "\n",
    "We could view this as saying that overfitting corresponds to learning parameters $\\omega = [W_1, W_2, b]$ so that $P(Y | X, \\omega)$ is high, but $P(Y| X)$ is not. If this is the case, applying dropout is analogous to optimising the model evidence as opposed to the likelihood, which is a well established bayesian method to avoid overfitting."
   ]
  },
  {
   "cell_type": "markdown",
   "metadata": {},
   "source": [
    "# Summary\n",
    "\n",
    "This post was a short summary of the details of the paper by Gal et Al. I mainly focussed on the interpretation and the use of this approach to compute distributions over the output of a network. In the appendix to the original paper, the authors present a more complete set of results, such as how this applies to classification, and formulas for a variety of useful quantities like marginal likelihood etc, as well as expanding on some points I skimmed over here."
   ]
  }
 ],
 "metadata": {
  "kernelspec": {
   "display_name": "Python 3",
   "language": "python",
   "name": "python3"
  },
  "language_info": {
   "codemirror_mode": {
    "name": "ipython",
    "version": 3
   },
   "file_extension": ".py",
   "mimetype": "text/x-python",
   "name": "python",
   "nbconvert_exporter": "python",
   "pygments_lexer": "ipython3",
   "version": "3.5.2"
  }
 },
 "nbformat": 4,
 "nbformat_minor": 2
}
