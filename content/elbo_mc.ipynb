{
 "cells": [
  {
   "cell_type": "markdown",
   "metadata": {},
   "source": [
    "# Using the ELBO in practice"
   ]
  },
  {
   "cell_type": "markdown",
   "metadata": {},
   "source": [
    "## Introduction\n",
    "\n",
    "In the previous post, we derived the ELBO in practice. We saw that by maximising the lower bound, given by;\n",
    "\n",
    "$E_{q}[log \\ P(X,Z) - log \\ q(Z)] = \\mathcal{L}$\n",
    "\n",
    "we can approximate the posterior $P(Z\\mid X)$ with $q(Z)$."
   ]
  },
  {
   "cell_type": "markdown",
   "metadata": {},
   "source": [
    "For this post, I will go through how we can use Tensorflow to to learn an approximation to the true posterior."
   ]
  },
  {
   "cell_type": "markdown",
   "metadata": {},
   "source": [
    "## Computing the ELBO in practice\n",
    "\n",
    "What we will concerned with in this post is how to compute the ELBO in practice, without having to resort to special case simplifications. This approach forms part of a set of approaches termed 'Black Box' Variational Inference. \n",
    "\n",
    "$\\mathcal{L} = E_{q}[log \\ P(X,Z) - log \\ q(Z)] $\n",
    "\n",
    "The advantage of this formulation is that as we want a tractable approximation it should be simple to sample from $q$. This means we are able to approximate the Expecation as;\n",
    "\n",
    "$E_{q}[log \\ P(X,Z) - log \\ q(Z)] \\approx \\frac{1}{M}\\sum_{i}^{M} [log \\ P(X, Z_{i}) - log \\ q(Z_{i})]$\n",
    "\n",
    "Where $Z_{i}$ is sampled under $q$.\n",
    "\n",
    "We can split these terms out a little to make things a little easier;\n",
    "\n",
    "$ = \\frac{1}{M}\\sum_{i}^{M} log \\ P(X \\mid Z_{i}) + \\frac{1}{M}\\sum_{i}^{M}log \\ P(Z_{i}) - \\frac{1}{M}\\sum_{i}^{M}log \\ q(Z_{i})$\n",
    "\n",
    "As the likelihood is almost always I.I.D, we can further split up the likelihood term;\n",
    "\n",
    "$ = \\frac{1}{M}\\sum_{i}^{M} \\sum_{j}^{N}log \\ P(X_{j} \\mid Z_{i}) + \\frac{1}{M}\\sum_{i}^{M}log \\ P(Z_{i}) - \\frac{1}{M}\\sum_{i}^{M}log \\ q(Z_{i})$\n",
    "\n",
    "Using the above formula we can easily compute a Monte carlo estimate of the ELBO, irrelevant of the form of the joint distribution.\n",
    "\n",
    "There is one subtly, however, lurking beneath the surface. \n",
    "\n",
    "## Using the MC ELBO estimate\n",
    "\n",
    "The esimate we have derived above is very simple to implement providing we can evaluate the joint distribution and we can sample from $q$.\n",
    "\n",
    "Our goal is to maximise the ELBO, using the MC approximation. If we wish to use a library like tensorflow, or other library which uses automatic differentiation in order to do gradient based optimization, we have to ensure that all the gradients flow correctly.\n",
    "\n",
    "In a general sense, sampling is not an operation over which gradients will flow under automatic differentiation. Intuitively, we can see this is the case because sampling is non-deterministic, so the gradients will also be non-deterministic. We will explore this further in a future post.\n",
    "\n",
    "One way to get around this is to use the so-called [Reparameterization Trick](http://blog.shakirm.com/2015/10/machine-learning-trick-of-the-day-4-reparameterisation-tricks/). Within Tensorflow, all variables that implement some method for sampling over which gradients will flow have a FULLY_REPARAMETERIZED flag. You can see this check in the code that follows.\n",
    "\n",
    "In future posts, we will look into the details of the Reparameterization Trick, as well as ways to deal with distributions where this is not possible.\n",
    "\n"
   ]
  },
  {
   "cell_type": "code",
   "execution_count": 1,
   "metadata": {},
   "outputs": [
    {
     "data": {
      "text/plain": [
       "'1.3.0'"
      ]
     },
     "execution_count": 1,
     "metadata": {},
     "output_type": "execute_result"
    }
   ],
   "source": [
    "import numpy as np\n",
    "import tensorflow as tf\n",
    "import matplotlib.pyplot as plt\n",
    "%matplotlib inline\n",
    "plt.style.use('ggplot')\n",
    "\n",
    "tf.__version__"
   ]
  },
  {
   "cell_type": "markdown",
   "metadata": {},
   "source": [
    "## Problem setup\n",
    "\n",
    "In order to introduce the ELBO, and to be able to examine the results, we will use a conjugate distribution so we can easily derive the analytical solution.\n",
    "\n",
    "We will use a simple linear regression, treating the weights, $W$ as our latent variable.\n",
    "\n",
    "$P(W) = N(W; 0.8, 1.0)$\n",
    "\n",
    "$P(t\\mid X, W) = N(t; y, S_{N})$\n",
    "\n",
    "where $y = Xw$"
   ]
  },
  {
   "cell_type": "markdown",
   "metadata": {},
   "source": [
    "Our aim is to compute an approximation to the posterior $P(W| \\ t, \\ X)$. \n",
    "\n",
    "Firstly, we will generate the data we will use."
   ]
  },
  {
   "cell_type": "code",
   "execution_count": 2,
   "metadata": {},
   "outputs": [],
   "source": [
    "N = 200\n",
    "\n",
    "X = np.random.uniform(low=-50, high=50, size=(N, 1))\n",
    "T = 3.2*X + np.random.normal(size=(N, 1), scale=5.5)"
   ]
  },
  {
   "cell_type": "code",
   "execution_count": 3,
   "metadata": {},
   "outputs": [
    {
     "data": {
      "text/plain": [
       "<matplotlib.collections.PathCollection at 0x7fe4552bc160>"
      ]
     },
     "execution_count": 3,
     "metadata": {},
     "output_type": "execute_result"
    },
    {
     "data": {
      "image/png": "[encoded data removed]",
      "text/plain": [
       "<matplotlib.figure.Figure at 0x7fe4573520f0>"
      ]
     },
     "metadata": {},
     "output_type": "display_data"
    }
   ],
   "source": [
    "plt.scatter(X,T)"
   ]
  },
  {
   "cell_type": "markdown",
   "metadata": {},
   "source": [
    "Below is a simple tensorflow graph implementing the theory in the above sections. One additional trick, is we have wrapped the variable representing the standard deviation of the $q$ distribution in a softplus - this is to ensure our system doesn't degenerate by forcing the std to become either numerically 0 or negative."
   ]
  },
  {
   "cell_type": "code",
   "execution_count": 10,
   "metadata": {},
   "outputs": [],
   "source": [
    "graph = tf.Graph()\n",
    "with graph.as_default(), tf.device('/cpu'):\n",
    "    latent_samples = 100\n",
    "    t = tf.placeholder(shape=(None,1), dtype=tf.float32) # targets\n",
    "    x = tf.placeholder(shape=(None,1), dtype=tf.float32) # independent variables\n",
    "    \n",
    "    q_m = tf.Variable(initial_value=1.0) # variational mean\n",
    "    q_s = tf.Variable(initial_value=0.3) # variational std\n",
    "    \n",
    "    s = 1.0 # prior std\n",
    "    m = 0.9 # prior mean\n",
    "    s_l = 5.5 # likelihood std\n",
    "    \n",
    "    prior_dist = tf.distributions.Normal(m,s)       # prior distribution\n",
    "    q_dist = tf.distributions.Normal(q_m, tf.nn.softplus(q_s)) #q distribution\n",
    "    \n",
    "    #Show that this is reparametrizable\n",
    "    assert(q_dist.reparameterization_type \n",
    "           == tf.contrib.distributions.FULLY_REPARAMETERIZED)\n",
    "    \n",
    "    w = q_dist.sample(latent_samples) #Sample from q \n",
    "    w_u = tf.unstack(w) #We want to iterate over each sample, so unpack them\n",
    "    log_liklihood = [] #List to hold each term for the monte carlo estimate\n",
    "    log_prior = []\n",
    "    log_q = []\n",
    "    for z in w_u:\n",
    "        #For each sample from W, compute the log probability \n",
    "        #of t under the likelihood;\n",
    "        log_liklihood.append(\n",
    "            tf.reduce_sum(tf.distributions.Normal(x*z, s_l).log_prob(t)))\n",
    "        # The log probability of the sample under the prior\n",
    "        log_prior.append(prior_dist.log_prob(z))\n",
    "        # log probability of the sample under the q distribution\n",
    "        log_q.append(q_dist.log_prob(z))\n",
    " \n",
    "    mc_kld=  tf.reduce_mean(log_q) - tf.reduce_mean(log_prior) \n",
    "                            #average each term over samples of w \n",
    "                            #to get monte carlo estimate of \n",
    "                            #the expectation\n",
    "    \n",
    "    loss = tf.reduce_mean(log_liklihood) - mc_kld\n",
    "    train_op = tf.train.AdamOptimizer(0.2).minimize(-loss)\n",
    "    init_op = tf.global_variables_initializer()"
   ]
  },
  {
   "cell_type": "code",
   "execution_count": 11,
   "metadata": {},
   "outputs": [],
   "source": [
    "sess = tf.InteractiveSession(graph=graph)\n",
    "sess.run(init_op)"
   ]
  },
  {
   "cell_type": "code",
   "execution_count": 12,
   "metadata": {},
   "outputs": [
    {
     "name": "stdout",
     "output_type": "stream",
     "text": [
      "[1.2, 0.55412644]\n",
      "[3.1951087, 0.00074953539]\n",
      "[3.1954536, 0.00036324651]\n",
      "[3.1947501, 0.00025111937]\n",
      "[3.1938899, 0.00020788528]\n",
      "[3.1952934, 0.00019261954]\n",
      "[3.1944358, 0.00018552219]\n",
      "[3.1945758, 0.00018313997]\n",
      "[3.1910744, 0.00018014094]\n"
     ]
    }
   ],
   "source": [
    "for i in range(2001):\n",
    "    feed_dict = {x: X, t:T}\n",
    "    sess.run([train_op], feed_dict=feed_dict)\n",
    "    \n",
    "    if i % 250 == 0:\n",
    "        print(sess.run([q_m, tf.square(tf.nn.softplus(q_s))]))\n",
    "        q_mean = q_m.eval()\n",
    "        q_std = sess.run([tf.nn.softplus(q_s)])"
   ]
  },
  {
   "cell_type": "markdown",
   "metadata": {},
   "source": [
    "We can derive the mean and variance of the posterior analytically, (for more information, see PRML by Bishop).\n",
    "\n",
    "The posterior variance is given by $S_{P} = (\\frac{1}{5.5^{2}}X^{T}X + 1)^{-1}$.\n",
    "\n",
    "The posterior mean is given by $m_{P} = S_{P}(0.9+\\frac{1}{5.5^{2}}X^{T}t)$"
   ]
  },
  {
   "cell_type": "code",
   "execution_count": 13,
   "metadata": {},
   "outputs": [
    {
     "data": {
      "text/plain": [
       "array([[ 0.00018215]])"
      ]
     },
     "execution_count": 13,
     "metadata": {},
     "output_type": "execute_result"
    }
   ],
   "source": [
    "analytical_posterior_var = ((1/5.5**2)*X.T@ X +1)**-1\n",
    "analytical_posterior_var"
   ]
  },
  {
   "cell_type": "code",
   "execution_count": 14,
   "metadata": {},
   "outputs": [
    {
     "data": {
      "text/plain": [
       "array([[ 3.1941171]])"
      ]
     },
     "execution_count": 14,
     "metadata": {},
     "output_type": "execute_result"
    }
   ],
   "source": [
    "analytical_posterior_mean = analytical_posterior_var*(0.9+((1/5.5**2)*X.T @ T))\n",
    "analytical_posterior_mean"
   ]
  },
  {
   "cell_type": "code",
   "execution_count": 15,
   "metadata": {},
   "outputs": [
    {
     "data": {
      "text/plain": [
       "<matplotlib.legend.Legend at 0x7fe41c716f98>"
      ]
     },
     "execution_count": 15,
     "metadata": {},
     "output_type": "execute_result"
    },
    {
     "data": {
      "image/png": "[encoded data removed]",
      "text/plain": [
       "<matplotlib.figure.Figure at 0x7fe412dc1e80>"
      ]
     },
     "metadata": {},
     "output_type": "display_data"
    }
   ],
   "source": [
    "from scipy.stats import norm\n",
    "xn = np.arange(3.1, 3.5, 0.0001)\n",
    "true_dist = norm(loc = analytical_posterior_mean, \n",
    "                 scale =(analytical_posterior_var)**0.5)\n",
    "q_dist = norm(loc = q_mean, scale = q_std)\n",
    "yn = true_dist.pdf(xn).ravel()\n",
    "plt.plot(xn, yn, linewidth=3, label=\"True Posterior\")\n",
    "plt.plot(xn, q_dist.pdf(xn).ravel(), '--', linewidth=3,\n",
    "         label=\"Approximation\")\n",
    "plt.legend()"
   ]
  },
  {
   "cell_type": "markdown",
   "metadata": {},
   "source": [
    "As we can see, this is a very close approximation, and if we run for more steps, we will get an exact analytical solution."
   ]
  },
  {
   "cell_type": "markdown",
   "metadata": {},
   "source": [
    "# Summary\n",
    "\n",
    "In this post, we have introduced the Monte Carlo approach to computing the ELBO, talked very briefly about some considerations, and used tensorflow to compute a simple example."
   ]
  }
 ],
 "metadata": {
  "anaconda-cloud": {},
  "kernelspec": {
   "display_name": "Python 3",
   "language": "python",
   "name": "python3"
  },
  "language_info": {
   "codemirror_mode": {
    "name": "ipython",
    "version": 3
   },
   "file_extension": ".py",
   "mimetype": "text/x-python",
   "name": "python",
   "nbconvert_exporter": "python",
   "pygments_lexer": "ipython3",
   "version": "3.5.2"
  },
  "toc": {
   "colors": {
    "hover_highlight": "#DAA520",
    "running_highlight": "#FF0000",
    "selected_highlight": "#FFD700"
   },
   "moveMenuLeft": true,
   "nav_menu": {
    "height": "4px",
    "width": "254px"
   },
   "navigate_menu": true,
   "number_sections": false,
   "sideBar": true,
   "threshold": 4,
   "toc_cell": false,
   "toc_section_display": "block",
   "toc_window_display": false,
   "widenNotebook": false
  },
  "varInspector": {
   "cols": {
    "lenName": 16,
    "lenType": 16,
    "lenVar": 40
   },
   "kernels_config": {
    "python": {
     "delete_cmd_postfix": "",
     "delete_cmd_prefix": "del ",
     "library": "var_list.py",
     "varRefreshCmd": "print(var_dic_list())"
    },
    "r": {
     "delete_cmd_postfix": ") ",
     "delete_cmd_prefix": "rm(",
     "library": "var_list.r",
     "varRefreshCmd": "cat(var_dic_list()) "
    }
   },
   "types_to_exclude": [
    "module",
    "function",
    "builtin_function_or_method",
    "instance",
    "_Feature"
   ],
   "window_display": false
  }
 },
 "nbformat": 4,
 "nbformat_minor": 1
}
