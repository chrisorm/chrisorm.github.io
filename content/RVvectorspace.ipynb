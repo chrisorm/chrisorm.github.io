{
 "cells": [
  {
   "cell_type": "markdown",
   "metadata": {},
   "source": [
    "# Random Variables in a Vector Space\n",
    "\n",
    "Given 3 random variables, A, B and C, and corr(A,B) = 0.5 whilst corr(B,C) = 0.7. What values can corr(A,C) take?"
   ]
  },
  {
   "cell_type": "markdown",
   "metadata": {},
   "source": [
    "## A vector space of R.V.s \n",
    "\n",
    "If we propose a vector space, where the 'vectors' are real random variables, we can see the normal conditions for a vector space hold, for example there is a zero element - the constant random variable, $\\mathcal{Z}$, that takes the value 0 with probability 1. For example, $X + \\mathcal{Z} = X$ for all X.\n",
    "\n",
    "The norm of this space is given by $||X||^2 = E[(X-E[X])^2]$, which implies an inner product; \n",
    "\n",
    "$X \\cdot Y = cov(X - E[X], Y - E[Y])$\n",
    "\n",
    "Now, most importantly, we can represent the inner product as:\n",
    "$X \\cdot Y = cov(X - E[X], Y - E[Y]) = ||X|| \\ ||Y|| \\ corr(X - E[X], Y - E[Y])$\n",
    "\n",
    "So the angle between two vectors is $arccos(corr(X - E[X], Y - E[Y]))$, given by the traditional formula for the inner product of two vectors; $X \\cdot Y = ||X|| \\ ||Y|| \\ cos(\\theta)$"
   ]
  },
  {
   "cell_type": "markdown",
   "metadata": {},
   "source": [
    "## Back to the question\n",
    "\n",
    "We can now identify a way to actually solve this - if we don't look at this in some framework (this isn't the only approach we could take), it can be hard to work out how to tackle it!\n",
    "\n",
    "We essentially now just have to solve the simpler problem - \"The angle between A and B is $\\theta_1$ and the angle between B and C is $\\theta_2$. What is the range of angles possible between A and C?\"\n",
    "\n",
    "Well, this is straight forward. One extreme is :"
   ]
  },
  {
   "cell_type": "code",
   "execution_count": 1,
   "metadata": {},
   "outputs": [],
   "source": [
    "import numpy as np\n",
    "import matplotlib.pyplot as plt\n",
    "%matplotlib inline"
   ]
  },
  {
   "cell_type": "code",
   "execution_count": 2,
   "metadata": {},
   "outputs": [
    {
     "data": {
      "image/png": "[encoded data removed]",
      "text/plain": [
       "<Figure size 432x288 with 1 Axes>"
      ]
     },
     "metadata": {
      "needs_background": "light"
     },
     "output_type": "display_data"
    }
   ],
   "source": []
  },
  {
   "cell_type": "markdown",
   "metadata": {},
   "source": [
    "This corresponds to the maximum possible angle between A and C. The other extreme is:\n"
   ]
  },
  {
   "cell_type": "code",
   "execution_count": 10,
   "metadata": {},
   "outputs": [
    {
     "data": {
      "image/png": "[encoded data removed]",
      "text/plain": [
       "<Figure size 432x288 with 1 Axes>"
      ]
     },
     "metadata": {
      "needs_background": "light"
     },
     "output_type": "display_data"
    }
   ],
   "source": []
  },
  {
   "cell_type": "markdown",
   "metadata": {},
   "source": [
    "So we can compute these two extremes explicitly:"
   ]
  },
  {
   "cell_type": "code",
   "execution_count": 4,
   "metadata": {},
   "outputs": [
    {
     "data": {
      "text/plain": [
       "0.9684658438426491"
      ]
     },
     "execution_count": 4,
     "metadata": {},
     "output_type": "execute_result"
    }
   ],
   "source": [
    "max_corr = np.cos(np.arccos(0.5) - np.arccos(0.7))\n",
    "max_corr"
   ]
  },
  {
   "cell_type": "code",
   "execution_count": 5,
   "metadata": {},
   "outputs": [
    {
     "data": {
      "text/plain": [
       "-0.2684658438426493"
      ]
     },
     "execution_count": 5,
     "metadata": {},
     "output_type": "execute_result"
    }
   ],
   "source": [
    "min_corr = np.cos(np.arccos(0.5) + np.arccos(0.7))\n",
    "min_corr"
   ]
  },
  {
   "cell_type": "markdown",
   "metadata": {},
   "source": [
    "## Another approach\n",
    "\n",
    "We can check this using an alternative approach: A valid correlation matrix should be positive semi definite. This means the eigenvalues must be 0 or above:\n",
    "\n",
    "positive semi-definite definition: $\\mathbf{x}^{T}\\mathbf{A}\\mathbf{x} \\geq 0$<br/>\n",
    "Eigenvalue equation: $\\mathbf{A}\\mathbf{x}  = \\lambda \\mathbf{x}$\n",
    "\n",
    "$\\mathbf{x}^{T}\\mathbf{A}\\mathbf{x} = \\lambda \\mathbf{x}^{T}\\mathbf{x}$\n",
    "\n",
    "$\\lambda \\mathbf{x}^{T}\\mathbf{x} \\geq 0$ if and only if $\\lambda \\geq 0$ for all $\\mathbf{x}$."
   ]
  },
  {
   "cell_type": "code",
   "execution_count": 6,
   "metadata": {},
   "outputs": [],
   "source": [
    "eps = 1e-8\n",
    "a = np.array([[1.0, 0.5, max_corr-eps],\n",
    "         [0.5, 1.0, 0.7],\n",
    "         [max_corr-eps, 0.7, 1.0],])\n",
    "\n",
    "ap = np.array([[1.0, 0.5, max_corr+eps],\n",
    "         [0.5, 1.0, 0.7],\n",
    "         [max_corr+eps, 0.7, 1.0],])"
   ]
  },
  {
   "cell_type": "code",
   "execution_count": 7,
   "metadata": {},
   "outputs": [
    {
     "name": "stdout",
     "output_type": "stream",
     "text": [
      "9.355995189059583e-09\n",
      "-9.355994982380063e-09\n"
     ]
    }
   ],
   "source": [
    "print(np.min(np.linalg.eigvals(a)))\n",
    "print(np.min(np.linalg.eigvals(ap)))"
   ]
  },
  {
   "cell_type": "code",
   "execution_count": 8,
   "metadata": {},
   "outputs": [],
   "source": [
    "b = np.array([[1.0, 0.5, min_corr-eps],\n",
    "         [0.5, 1.0, 0.7],\n",
    "         [min_corr-eps, 0.7, 1.0],])\n",
    "\n",
    "bp = np.array([[1.0, 0.5, min_corr+eps],\n",
    "         [0.5, 1.0, 0.7],\n",
    "         [min_corr+eps, 0.7, 1.0],])"
   ]
  },
  {
   "cell_type": "code",
   "execution_count": 9,
   "metadata": {},
   "outputs": [
    {
     "name": "stdout",
     "output_type": "stream",
     "text": [
      "-5.6534439352162735e-09\n",
      "5.653443713171669e-09\n"
     ]
    }
   ],
   "source": [
    "print(np.min(np.linalg.eigvals(b)))\n",
    "print(np.min(np.linalg.eigvals(bp)))"
   ]
  },
  {
   "cell_type": "markdown",
   "metadata": {},
   "source": [
    "Whilst this is not quite so rigorous - we can see that both of these values mark points where one of the eigenvalues becomes 0, and hence is a border between positive semi-definite and not positive semi-definite. Solving it analytically this way is a bit trickier, as its a 3rd order equation, but is of course possible numerically."
   ]
  }
 ],
 "metadata": {
  "kernelspec": {
   "display_name": "Python 3",
   "language": "python",
   "name": "python3"
  },
  "language_info": {
   "codemirror_mode": {
    "name": "ipython",
    "version": 3
   },
   "file_extension": ".py",
   "mimetype": "text/x-python",
   "name": "python",
   "nbconvert_exporter": "python",
   "pygments_lexer": "ipython3",
   "version": "3.7.0"
  }
 },
 "nbformat": 4,
 "nbformat_minor": 2
}
