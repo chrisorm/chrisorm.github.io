{
 "cells": [
  {
   "cell_type": "markdown",
   "metadata": {},
   "source": [
    "# Renyi Divergence Part 3"
   ]
  },
  {
   "cell_type": "markdown",
   "metadata": {},
   "source": [
    "## Introduction\n",
    "\n",
    "This is the final post in the series on Renyi alpha divergence Variational Inference. In previous posts, we derived the Renyi bound, proved a variety of properties, and showed how the bound varies with different alpha values for a closed gaussian system. \n",
    "\n",
    "In this post, we implement a stochastic version of the Renyi bound, and try it on a simple example."
   ]
  },
  {
   "cell_type": "markdown",
   "metadata": {},
   "source": [
    "\n",
    "\n",
    "## Stochastic Estimator\n",
    "\n",
    "Recall the Renyi Bound $\\mathcal{L_\\alpha} =  \\frac{1}{1 - \\alpha} log \\ E_{q}[(\\frac{p(z, x)}{q(z)})^{1-\\alpha}] $\n",
    "\n",
    "We turn this into an (biased) stochastic estimate by approximating the integral in the expecation with an average over samples.\n",
    "\n",
    "where $\\hat{\\mathcal{L_\\alpha}} =  \\frac{1}{1 - \\alpha} log \\ \\frac{1}{K} \\sum_{i=1}^{K}[(\\frac{p(z_{i}, x)}{q(z_{i})})^{1-\\alpha}] $"
   ]
  },
  {
   "cell_type": "markdown",
   "metadata": {},
   "source": [
    "## Numerical Trick\n",
    "\n",
    "When we have to compute the pdf of an exponential family, it is numerically more stable to compute it in logspace. With the KLD, the presence of the log means we never need to exponentiate the log pdf, leading to well behaved and stable computation.\n",
    "\n",
    "With Renyi Divergence VI, the log is outside the expectation, so we have to exponentiate the log pdf before we average. This is fine in theory, but problematic when we do things in practice. \n",
    "\n",
    "In order to stablise the expecation computation, we subtract the max entry from all the values we which compute the mean over, compute the mean, then take the log and add back the max.\n",
    "\n",
    "$ratio = (1-\\alpha)[log \\ P(x,z) - log \\ q(z)]$\n",
    "\n",
    "$adj = max(ratio)$\n",
    "\n",
    "$[log \\frac{1}{K} \\sum exp(ratio-adj)] +  adj$\n",
    "\n",
    "This helps when the entries of the vector of log probability ratios are large negative numbers. If they are very small, they become numerically zero in practice, and if this happens everywhere, the mean is then numerically zero and the log becomes - infinity. As an example, consider the equation below:"
   ]
  },
  {
   "cell_type": "code",
   "execution_count": 1,
   "metadata": {},
   "outputs": [
    {
     "name": "stdout",
     "output_type": "stream",
     "text": [
      "-inf\n"
     ]
    },
    {
     "name": "stderr",
     "output_type": "stream",
     "text": [
      "/home/chris/anaconda2/envs/p3/lib/python3.5/site-packages/ipykernel/__main__.py:7: RuntimeWarning: divide by zero encountered in log\n"
     ]
    }
   ],
   "source": [
    "import numpy as np\n",
    "\n",
    "log_p = np.random.random((10,1))*-10000\n",
    "log_q = np.random.random((10,1))*10000\n",
    "a = 0.5\n",
    "ratio = (1-a)*(log_p - log_q)\n",
    "print(np.log(np.mean(np.exp(ratio))))"
   ]
  },
  {
   "cell_type": "markdown",
   "metadata": {},
   "source": [
    "If we introduce the trick above, we see that it allows us to compute the value. You can change the multipliers to generate a more normal problem to see they are the same."
   ]
  },
  {
   "cell_type": "code",
   "execution_count": 2,
   "metadata": {},
   "outputs": [
    {
     "name": "stdout",
     "output_type": "stream",
     "text": [
      "-2377.17256359\n"
     ]
    }
   ],
   "source": [
    "c = np.max(ratio)\n",
    "print(np.log(np.mean(np.exp(ratio-c)))+c)"
   ]
  },
  {
   "cell_type": "markdown",
   "metadata": {},
   "source": [
    "## An example in Pytorch\n",
    "\n",
    "As with previous examples, we will generate a simple linear regression example, and show how the stochastic varient performs."
   ]
  },
  {
   "cell_type": "code",
   "execution_count": 3,
   "metadata": {},
   "outputs": [],
   "source": [
    "import numpy as np\n",
    "import torch\n",
    "from torch.autograd import Variable\n",
    "import matplotlib.pyplot as plt\n",
    "%matplotlib inline\n",
    "plt.style.use('ggplot')"
   ]
  },
  {
   "cell_type": "markdown",
   "metadata": {},
   "source": [
    "Start by generating the same problem as before. A simple noisy linear relationship."
   ]
  },
  {
   "cell_type": "code",
   "execution_count": 4,
   "metadata": {},
   "outputs": [],
   "source": [
    "N = 200\n",
    "\n",
    "X = np.random.uniform(low=-50, high=50, size=(N, 1)).astype(np.float64)\n",
    "T = 3.2*X + np.random.normal(size=(N, 1), scale=5.5).astype(np.float64)"
   ]
  },
  {
   "cell_type": "code",
   "execution_count": 5,
   "metadata": {},
   "outputs": [
    {
     "data": {
      "text/plain": [
       "<matplotlib.collections.PathCollection at 0x7efcc03c7d68>"
      ]
     },
     "execution_count": 5,
     "metadata": {},
     "output_type": "execute_result"
    },
    {
     "data": {
      "image/png": "[encoded data removed]",
      "text/plain": [
       "<matplotlib.figure.Figure at 0x7efce849aa20>"
      ]
     },
     "metadata": {},
     "output_type": "display_data"
    }
   ],
   "source": [
    "plt.scatter(X,T)"
   ]
  },
  {
   "cell_type": "code",
   "execution_count": 6,
   "metadata": {},
   "outputs": [],
   "source": [
    "def log_norm(x, mu, std):\n",
    "    \"\"\"Compute the log pdf of x,\n",
    "    under a normal distribution with mean mu and standard deviation std.\"\"\"\n",
    "    \n",
    "    return -0.5 * torch.log(2*np.pi*std**2) -(0.5 * (1/(std**2))* (x-mu)**2)"
   ]
  },
  {
   "cell_type": "code",
   "execution_count": 7,
   "metadata": {},
   "outputs": [],
   "source": [
    "class MCRenyi(torch.nn.Module):\n",
    "    def __init__(self, alpha=0.9):\n",
    "        super(MCRenyi, self).__init__()\n",
    "        self.n_latent = 10 # Number of latent samples\n",
    "        self.softplus = torch.nn.Softplus()\n",
    "        self.alpha = alpha\n",
    "        \n",
    "        #The parameters we adjust during training.\n",
    "        self.qm = torch.nn.Parameter(torch.randn(1,1).double(), requires_grad=True)\n",
    "        self.qs= torch.nn.Parameter(torch.randn(1,1).double(), requires_grad=True)\n",
    "        \n",
    "        #create holders for prior mean and std, and likelihood std.\n",
    "        self.prior_m = Variable(torch.randn(1,1).double(), requires_grad=False)\n",
    "        self.prior_s = Variable(torch.randn(1,1).double(), requires_grad=False)\n",
    "        self.likelihood_s = Variable(torch.DoubleTensor((1)), requires_grad=False)\n",
    "        \n",
    "        #Set the prior and likelihood moments.\n",
    "        self.prior_s.data.fill_(1.0)\n",
    "        self.prior_m.data.fill_(0.9)\n",
    "        self.likelihood_s.data.fill_(5.5)\n",
    "\n",
    "        \n",
    "    def generate_rand(self):\n",
    "        return np.random.normal(size=(self.n_latent,1))\n",
    "    \n",
    "    def reparam(self, eps):\n",
    "        eps = Variable(torch.DoubleTensor(eps))\n",
    "        return  eps.mul(self.softplus(self.qs)).add(self.qm)\n",
    "    \n",
    "    def compute_renyi_bound(self, x, t):\n",
    "        eps = self.generate_rand()\n",
    "        z = self.reparam(eps)\n",
    "        q_likelihood = log_norm(z, self.qm, self.softplus(self.qs))\n",
    "        prior = log_norm(z, self.prior_m, self.prior_s)\n",
    "        likelihood = torch.sum(log_norm(t, x*z.transpose(0,1), \n",
    "                                                   self.likelihood_s), 0, keepdim=True).transpose(0,1)\n",
    "        \n",
    "        ratio = (1-self.alpha)*(prior + likelihood -q_likelihood)\n",
    "        const = torch.max(ratio)\n",
    "        expectant = torch.exp((ratio-const))\n",
    "        \n",
    "        renyi_div = (torch.log(torch.mean(expectant))+const)/(1-self.alpha)\n",
    "        return renyi_div"
   ]
  },
  {
   "cell_type": "code",
   "execution_count": 8,
   "metadata": {},
   "outputs": [
    {
     "name": "stdout",
     "output_type": "stream",
     "text": [
      "[[-0.48084967]] [[ 0.15816684]]\n",
      "[[ 2.69328623]] [[ 0.82244459]]\n",
      "[[ 3.28302152]] [[ 0.14089157]]\n",
      "[[ 3.19240907]] [[ 0.02954172]]\n",
      "[[ 3.20146107]] [[ 0.00767922]]\n",
      "[[ 3.18926624]] [[ 0.00185215]]\n",
      "[[ 3.22074138]] [[ 0.0003202]]\n",
      "[[ 3.18371472]] [[ 0.00031177]]\n",
      "[[ 3.19168896]] [[ 0.00028408]]\n"
     ]
    }
   ],
   "source": [
    "c = MCRenyi(alpha=0.2)\n",
    "optimizer = torch.optim.Adam(c.parameters(),lr=0.01)\n",
    "x = Variable(torch.DoubleTensor(X), requires_grad=False) \n",
    "t = Variable(torch.DoubleTensor(T), requires_grad=False)\n",
    "\n",
    "for i in range(20001):\n",
    "    loss = -c.compute_renyi_bound(x, t)\n",
    "    #break\n",
    "    optimizer.zero_grad()\n",
    "    loss.backward(retain_graph=True)\n",
    "    optimizer.step()\n",
    "    if i % 2500 ==0:\n",
    "        print(c.qm.data.numpy(), (c.softplus(c.qs).data**2).numpy())"
   ]
  },
  {
   "cell_type": "code",
   "execution_count": 9,
   "metadata": {},
   "outputs": [
    {
     "data": {
      "text/plain": [
       "array([[ 0.00016908]])"
      ]
     },
     "execution_count": 9,
     "metadata": {},
     "output_type": "execute_result"
    }
   ],
   "source": [
    "analytical_posterior_var = ((1/5.5**2)*X.T@ X +1)**-1\n",
    "analytical_posterior_var"
   ]
  },
  {
   "cell_type": "code",
   "execution_count": 10,
   "metadata": {},
   "outputs": [
    {
     "data": {
      "text/plain": [
       "array([[ 3.20434673]])"
      ]
     },
     "execution_count": 10,
     "metadata": {},
     "output_type": "execute_result"
    }
   ],
   "source": [
    "analytical_posterior_mean = analytical_posterior_var*(0.9+((1/5.5**2)*X.T @ T))\n",
    "analytical_posterior_mean"
   ]
  },
  {
   "cell_type": "code",
   "execution_count": 11,
   "metadata": {},
   "outputs": [
    {
     "data": {
      "text/plain": [
       "<matplotlib.legend.Legend at 0x7efcb36a9d30>"
      ]
     },
     "execution_count": 11,
     "metadata": {},
     "output_type": "execute_result"
    },
    {
     "data": {
      "image/png": "[encoded data removed]",
      "text/plain": [
       "<matplotlib.figure.Figure at 0x7efcb368d1d0>"
      ]
     },
     "metadata": {},
     "output_type": "display_data"
    }
   ],
   "source": [
    "from scipy.stats import norm\n",
    "xn = np.arange(3.0, 3.5, 0.0001)\n",
    "true_dist = norm(loc = analytical_posterior_mean, \n",
    "                 scale =(analytical_posterior_var)**0.5)\n",
    "q_dist = norm(loc = c.qm.data.numpy(), scale = c.softplus(c.qs).data.numpy())\n",
    "yn = true_dist.pdf(xn).ravel()\n",
    "plt.plot(xn, yn, linewidth=3, label=\"True Posterior\")\n",
    "plt.plot(xn, q_dist.pdf(xn).ravel(), '--', linewidth=3,\n",
    "         label=\"Approximation\")\n",
    "plt.legend()\n"
   ]
  },
  {
   "cell_type": "markdown",
   "metadata": {},
   "source": [
    "As this is a stochastic estimator, it bounces around, but with more latent samples and a more refined training procedure we could get it to converge exactly. With 10 latent samples, the biased-ness of the estimator has an impact, so it will not converge exactly. However, we see it still yields a good enough approximation for most purposes.\n",
    "\n",
    "If the problem did not have an exact solution, the choice of alpha would also play a role."
   ]
  },
  {
   "cell_type": "markdown",
   "metadata": {},
   "source": [
    "# Summary\n",
    "\n",
    "In this post, we have gone through a few important points about practically using Renyi Alpha Divergence for doing Variational Inference, and created a simple pytorch implementation of an example."
   ]
  }
 ],
 "metadata": {
  "kernelspec": {
   "display_name": "Python 3",
   "language": "python",
   "name": "python3"
  },
  "language_info": {
   "codemirror_mode": {
    "name": "ipython",
    "version": 3
   },
   "file_extension": ".py",
   "mimetype": "text/x-python",
   "name": "python",
   "nbconvert_exporter": "python",
   "pygments_lexer": "ipython3",
   "version": "3.5.2"
  }
 },
 "nbformat": 4,
 "nbformat_minor": 2
}
